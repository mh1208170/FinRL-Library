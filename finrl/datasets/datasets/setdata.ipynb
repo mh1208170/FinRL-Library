{
 "cells": [
  {
   "cell_type": "code",
   "execution_count": 1,
   "metadata": {
    "collapsed": true
   },
   "outputs": [],
   "source": [
    "import pandas as pd\n",
    "import swifter\n",
    "import numpy as np\n",
    "df = pd.read_csv(\"data/gc-1m.csv\", sep=\";\")#,nrows=1000)\n",
    "df.columns=[\"Date\",\"Time\", \"Open\", \"High\", \"Low\", \"Close\", \"Volume\"]"
   ]
  },
  {
   "cell_type": "code",
   "execution_count": 2,
   "outputs": [],
   "source": [
    "#Wilder’s Smoothing function\n",
    "def Wilder(data, periods):\n",
    "    start = np.where(~np.isnan(data))[0][0] #Check if nans present in beginning\n",
    "    Wilder = np.array([np.nan]*len(data))\n",
    "    Wilder[start+periods-1] = data[start:(start+periods)].mean() #Simple Moving Average\n",
    "    for i in range(start+periods,len(data)):\n",
    "        Wilder[i] = (Wilder[i-1]*(periods-1) + data[i])/periods #Wilder Smoothing\n",
    "    return(Wilder)"
   ],
   "metadata": {
    "collapsed": false,
    "pycharm": {
     "name": "#%%\n"
    }
   }
  },
  {
   "cell_type": "code",
   "execution_count": 3,
   "outputs": [],
   "source": [
    "dt=(df['Date'] + ' ' + df['Time']).swifter.apply(pd.to_datetime)\n",
    "df[\"Time\"]=dt\n",
    "df.drop(columns=[\"Date\",\"Volume\"],inplace=True)\n",
    "df.set_index([\"Time\"],inplace=True)"
   ],
   "metadata": {
    "collapsed": false,
    "pycharm": {
     "name": "#%%\n"
    }
   }
  },
  {
   "cell_type": "code",
   "execution_count": 4,
   "outputs": [],
   "source": [
    "#Simple Moving Average (SMA)\n",
    "df['SMA_5'] = df['Close'].transform(lambda x: x.rolling(window = 5).mean())\n",
    "df['SMA_15'] = df['Close'].transform(lambda x: x.rolling(window = 15).mean())\n",
    "df['SMA_ratio'] = df['SMA_15'] / df['SMA_5']"
   ],
   "metadata": {
    "collapsed": false,
    "pycharm": {
     "name": "#%%\n"
    }
   }
  },
  {
   "cell_type": "code",
   "execution_count": 5,
   "outputs": [],
   "source": [
    "#Average True Range (ATR)\n",
    "df['prev_close'] = df['Close'].shift(1)\n",
    "df['TR'] = np.maximum((df['High'] - df['Low']),\n",
    "                     np.maximum(abs(df['High'] - df['prev_close']),\n",
    "                     abs(df['prev_close'] - df['Low'])))\n",
    "\n",
    "TR_data = df.copy()\n",
    "df['ATR_5'] = Wilder(TR_data['TR'], 5)\n",
    "df['ATR_15'] = Wilder(TR_data['TR'], 15)\n",
    "df['ATR_Ratio'] = df['ATR_5'] / df['ATR_15']"
   ],
   "metadata": {
    "collapsed": false,
    "pycharm": {
     "name": "#%%\n"
    }
   }
  },
  {
   "cell_type": "code",
   "execution_count": 6,
   "outputs": [],
   "source": [
    "#Average Directional Index (ADX)\n",
    "df['prev_high'] = df['High'].shift(1)\n",
    "df['prev_low'] = df['Low'].shift(1)\n",
    "\n",
    "df['+DM'] = np.where(~np.isnan(df.prev_high),\n",
    "                           np.where((df['High'] > df['prev_high']) & \n",
    "         (((df['High'] - df['prev_high']) > (df['prev_low'] - df['Low']))), \n",
    "                                                                  df['High'] - df['prev_high'], \n",
    "                                                                  0),np.nan)\n",
    "\n",
    "df['-DM'] = np.where(~np.isnan(df.prev_low),\n",
    "                           np.where((df['prev_low'] > df['Low']) & \n",
    "         (((df['prev_low'] - df['Low']) > (df['High'] - df['prev_high']))), \n",
    "                                    df['prev_low'] - df['Low'], \n",
    "                                    0),np.nan)\n",
    "\n",
    "\n",
    "ADX_data = df.copy()\n",
    "df['+DM_5'] = Wilder(ADX_data['+DM'], 5)\n",
    "df['-DM_5'] = Wilder(ADX_data['-DM'], 5)\n",
    "df['+DM_15'] = Wilder(ADX_data['+DM'], 15)\n",
    "df['-DM_15'] = Wilder(ADX_data['-DM'], 15)\n",
    "\n",
    "df['+DI_5'] = (df['+DM_5']/df['ATR_5'])*100\n",
    "df['-DI_5'] = (df['-DM_5']/df['ATR_5'])*100\n",
    "df['+DI_15'] = (df['+DM_15']/df['ATR_15'])*100\n",
    "df['-DI_15'] = (df['-DM_15']/df['ATR_15'])*100\n",
    "\n",
    "df['DX_5'] = (np.round(abs(df['+DI_5'] - df['-DI_5'])/(df['+DI_5'] + df['-DI_5']) * 100))\n",
    "\n",
    "df['DX_15'] = (np.round(abs(df['+DI_15'] - df['-DI_15'])/(df['+DI_15'] + df['-DI_15']) * 100))\n",
    "\n",
    "\n",
    "ADX_data = df.copy()\n",
    "df['ADX_5'] = Wilder(ADX_data['DX_5'], 5)\n",
    "df['ADX_15'] = Wilder(ADX_data['DX_15'], 15)"
   ],
   "metadata": {
    "collapsed": false,
    "pycharm": {
     "name": "#%%\n"
    }
   }
  },
  {
   "cell_type": "code",
   "execution_count": 7,
   "outputs": [],
   "source": [
    "#Stochastic Oscillators\n",
    "df['Lowest_5D'] = df['Low'].transform(lambda x: x.rolling(window = 5).min())\n",
    "df['High_5D'] = df['High'].transform(lambda x: x.rolling(window = 5).max())\n",
    "df['Lowest_15D'] = df['Low'].transform(lambda x: x.rolling(window = 15).min())\n",
    "df['High_15D'] = df['High'].transform(lambda x: x.rolling(window = 15).max())\n",
    "\n",
    "df['Stochastic_5'] = ((df['Close'] - df['Lowest_5D'])/(df['High_5D'] - df['Lowest_5D']))*100\n",
    "df['Stochastic_15'] = ((df['Close'] - df['Lowest_15D'])/(df['High_15D'] - df['Lowest_15D']))*100\n",
    "\n",
    "df['Stochastic_%D_5'] = df['Stochastic_5'].rolling(window = 5).mean()\n",
    "df['Stochastic_%D_15'] = df['Stochastic_5'].rolling(window = 15).mean()\n",
    "\n",
    "df['Stochastic_Ratio'] = df['Stochastic_%D_5']/df['Stochastic_%D_15']"
   ],
   "metadata": {
    "collapsed": false,
    "pycharm": {
     "name": "#%%\n"
    }
   }
  },
  {
   "cell_type": "code",
   "execution_count": 8,
   "outputs": [],
   "source": [
    "#Relative Strength Index (RSI)\n",
    "df['Diff'] = df['Close'].transform(lambda x: x.diff())\n",
    "df['Up'] = df['Diff']\n",
    "df.loc[(df['Up']<0), 'Up'] = 0\n",
    "\n",
    "df['Down'] = df['Diff']\n",
    "df.loc[(df['Down']>0), 'Down'] = 0 \n",
    "df['Down'] = abs(df['Down'])\n",
    "\n",
    "df['avg_5up'] = df['Up'].transform(lambda x: x.rolling(window=5).mean())\n",
    "df['avg_5down'] = df['Down'].transform(lambda x: x.rolling(window=5).mean())\n",
    "\n",
    "df['avg_15up'] = df['Up'].transform(lambda x: x.rolling(window=15).mean())\n",
    "df['avg_15down'] = df['Down'].transform(lambda x: x.rolling(window=15).mean())\n",
    "\n",
    "df['RS_5'] = df['avg_5up'] / df['avg_5down']\n",
    "df['RS_15'] = df['avg_15up'] / df['avg_15down']\n",
    "\n",
    "df['RSI_5'] = 100 - (100/(1+df['RS_5']))\n",
    "df['RSI_15'] = 100 - (100/(1+df['RS_15']))\n",
    "\n",
    "df['RSI_ratio'] = df['RSI_5']/df['RSI_15']"
   ],
   "metadata": {
    "collapsed": false,
    "pycharm": {
     "name": "#%%\n"
    }
   }
  },
  {
   "cell_type": "code",
   "execution_count": 9,
   "outputs": [],
   "source": [
    "#Moving Average Convergence Divergence (MACD)\n",
    "df['12Ewm'] = df['Close'].transform(lambda x: x.ewm(span=12, adjust=False).mean())\n",
    "df['26Ewm'] = df['Close'].transform(lambda x: x.ewm(span=26, adjust=False).mean())\n",
    "df['MACD'] = df['26Ewm'] - df['12Ewm']"
   ],
   "metadata": {
    "collapsed": false,
    "pycharm": {
     "name": "#%%\n"
    }
   }
  },
  {
   "cell_type": "code",
   "execution_count": 10,
   "outputs": [],
   "source": [
    "#Bollinger Bands\n",
    "df['15MA'] = df['Close'].transform(lambda x: x.rolling(window=15).mean())\n",
    "df['SD'] = df['Close'].transform(lambda x: x.rolling(window=15).std())\n",
    "df['upperband'] = df['15MA'] + 2*df['SD']\n",
    "df['lowerband'] = df['15MA'] - 2*df['SD']"
   ],
   "metadata": {
    "collapsed": false,
    "pycharm": {
     "name": "#%%\n"
    }
   }
  },
  {
   "cell_type": "code",
   "execution_count": 11,
   "outputs": [],
   "source": [
    "#Rate of Change\n",
    "df['RC'] = df['Close'].transform(lambda x: x.pct_change(periods = 15))"
   ],
   "metadata": {
    "collapsed": false,
    "pycharm": {
     "name": "#%%\n"
    }
   }
  },
  {
   "cell_type": "code",
   "execution_count": 12,
   "outputs": [],
   "source": [
    "df.interpolate()\n",
    "df.dropna()\n",
    "df.to_csv(\"data/gc-1m_all.csv\")"
   ],
   "metadata": {
    "collapsed": false,
    "pycharm": {
     "name": "#%%\n"
    }
   }
  }
 ],
 "metadata": {
  "kernelspec": {
   "display_name": "Python 3",
   "language": "python",
   "name": "python3"
  },
  "language_info": {
   "codemirror_mode": {
    "name": "ipython",
    "version": 2
   },
   "file_extension": ".py",
   "mimetype": "text/x-python",
   "name": "python",
   "nbconvert_exporter": "python",
   "pygments_lexer": "ipython2",
   "version": "2.7.6"
  }
 },
 "nbformat": 4,
 "nbformat_minor": 0
}